{
 "cells": [
  {
   "cell_type": "code",
   "execution_count": 6,
   "metadata": {},
   "outputs": [],
   "source": [
    "import torch\n",
    "import torch.nn as nn\n",
    "import warnings\n",
    "warnings.filterwarnings(\"ignore\")\n",
    "import seaborn as sns\n",
    "import numpy as np\n",
    "import pandas as pd\n",
    "import matplotlib.pyplot as plt\n",
    "\n",
    "from sklearn.preprocessing import MinMaxScaler"
   ]
  },
  {
   "cell_type": "code",
   "execution_count": null,
   "metadata": {},
   "outputs": [],
   "source": []
  },
  {
   "cell_type": "code",
   "execution_count": 4,
   "metadata": {},
   "outputs": [],
   "source": [
    "df = pd.read_csv('super_puper_final_df.csv').drop(columns=['Unnamed: 0'])"
   ]
  },
  {
   "cell_type": "code",
   "execution_count": 5,
   "metadata": {},
   "outputs": [
    {
     "data": {
      "text/plain": [
       "36036.0"
      ]
     },
     "execution_count": 5,
     "metadata": {},
     "output_type": "execute_result"
    }
   ],
   "source": [
    "df['cnt_cumsum_entry'].iloc[-1]"
   ]
  },
  {
   "cell_type": "code",
   "execution_count": 8,
   "metadata": {},
   "outputs": [],
   "source": [
    "day_data = pd.read_csv('/Users/kuprik01/Projects/marking hack/rus/super_puper_final_df.csv').drop(columns=['Unnamed: 0'])\n",
    "day_data['cnt_cumsum_sold'] = day_data['cnt_cumsum_sold'].astype(float)\n",
    "day_data['cnt_cumsum_entry'] = day_data['cnt_cumsum_entry'].astype(float)\n",
    "day_data['dt'] = pd.to_datetime(day_data['dt'])"
   ]
  },
  {
   "cell_type": "code",
   "execution_count": 18,
   "metadata": {},
   "outputs": [],
   "source": [
    "top_100_gtin_sold = day_data.groupby('gtin', as_index=False).cnt_cumsum_sold.sum().sort_values('cnt_cumsum_sold')[-100:].gtin"
   ]
  },
  {
   "cell_type": "code",
   "execution_count": 20,
   "metadata": {},
   "outputs": [
    {
     "data": {
      "text/html": [
       "<div>\n",
       "<style scoped>\n",
       "    .dataframe tbody tr th:only-of-type {\n",
       "        vertical-align: middle;\n",
       "    }\n",
       "\n",
       "    .dataframe tbody tr th {\n",
       "        vertical-align: top;\n",
       "    }\n",
       "\n",
       "    .dataframe thead th {\n",
       "        text-align: right;\n",
       "    }\n",
       "</style>\n",
       "<table border=\"1\" class=\"dataframe\">\n",
       "  <thead>\n",
       "    <tr style=\"text-align: right;\">\n",
       "      <th></th>\n",
       "      <th>cnt_cumsum_entry</th>\n",
       "      <th>gtin</th>\n",
       "      <th>dt</th>\n",
       "      <th>cnt_cumsum_sold</th>\n",
       "    </tr>\n",
       "  </thead>\n",
       "  <tbody>\n",
       "    <tr>\n",
       "      <th>5</th>\n",
       "      <td>0.0</td>\n",
       "      <td>8CB88CFCD80739D8171051B5116FA775</td>\n",
       "      <td>2021-11-22</td>\n",
       "      <td>440.0</td>\n",
       "    </tr>\n",
       "    <tr>\n",
       "      <th>36</th>\n",
       "      <td>0.0</td>\n",
       "      <td>1E0E222C90EABB54A93A4858AD808520</td>\n",
       "      <td>2021-11-22</td>\n",
       "      <td>28.0</td>\n",
       "    </tr>\n",
       "    <tr>\n",
       "      <th>38</th>\n",
       "      <td>0.0</td>\n",
       "      <td>1CC537739C4992617842FC2CBE9DC7AA</td>\n",
       "      <td>2021-11-22</td>\n",
       "      <td>170.0</td>\n",
       "    </tr>\n",
       "    <tr>\n",
       "      <th>61</th>\n",
       "      <td>0.0</td>\n",
       "      <td>9305E5376E59A7CCF71D03CC1E2B9896</td>\n",
       "      <td>2021-11-22</td>\n",
       "      <td>355.0</td>\n",
       "    </tr>\n",
       "    <tr>\n",
       "      <th>69</th>\n",
       "      <td>0.0</td>\n",
       "      <td>5D74B67E1DAC42C7526F27A6BDA73FF6</td>\n",
       "      <td>2021-11-22</td>\n",
       "      <td>929.0</td>\n",
       "    </tr>\n",
       "    <tr>\n",
       "      <th>...</th>\n",
       "      <td>...</td>\n",
       "      <td>...</td>\n",
       "      <td>...</td>\n",
       "      <td>...</td>\n",
       "    </tr>\n",
       "    <tr>\n",
       "      <th>362790</th>\n",
       "      <td>199153.0</td>\n",
       "      <td>3F4E74FCCF1AD81B35722C4147641417</td>\n",
       "      <td>2022-11-21</td>\n",
       "      <td>183259.0</td>\n",
       "    </tr>\n",
       "    <tr>\n",
       "      <th>362791</th>\n",
       "      <td>118996.0</td>\n",
       "      <td>4F0FC1349164656A072D1340BE15ABA0</td>\n",
       "      <td>2022-11-21</td>\n",
       "      <td>132445.0</td>\n",
       "    </tr>\n",
       "    <tr>\n",
       "      <th>362798</th>\n",
       "      <td>224601.0</td>\n",
       "      <td>42BDD740387D3866D50F6DEA30390568</td>\n",
       "      <td>2022-11-21</td>\n",
       "      <td>186082.0</td>\n",
       "    </tr>\n",
       "    <tr>\n",
       "      <th>362799</th>\n",
       "      <td>130242.0</td>\n",
       "      <td>D92BE120CD99553CA5FFDFE452A95D4E</td>\n",
       "      <td>2022-11-21</td>\n",
       "      <td>154192.0</td>\n",
       "    </tr>\n",
       "    <tr>\n",
       "      <th>362808</th>\n",
       "      <td>153630.0</td>\n",
       "      <td>580717CA2E4E033BA83766F16C53AB02</td>\n",
       "      <td>2022-11-21</td>\n",
       "      <td>330405.0</td>\n",
       "    </tr>\n",
       "  </tbody>\n",
       "</table>\n",
       "<p>36500 rows × 4 columns</p>\n",
       "</div>"
      ],
      "text/plain": [
       "        cnt_cumsum_entry                              gtin         dt  \\\n",
       "5                    0.0  8CB88CFCD80739D8171051B5116FA775 2021-11-22   \n",
       "36                   0.0  1E0E222C90EABB54A93A4858AD808520 2021-11-22   \n",
       "38                   0.0  1CC537739C4992617842FC2CBE9DC7AA 2021-11-22   \n",
       "61                   0.0  9305E5376E59A7CCF71D03CC1E2B9896 2021-11-22   \n",
       "69                   0.0  5D74B67E1DAC42C7526F27A6BDA73FF6 2021-11-22   \n",
       "...                  ...                               ...        ...   \n",
       "362790          199153.0  3F4E74FCCF1AD81B35722C4147641417 2022-11-21   \n",
       "362791          118996.0  4F0FC1349164656A072D1340BE15ABA0 2022-11-21   \n",
       "362798          224601.0  42BDD740387D3866D50F6DEA30390568 2022-11-21   \n",
       "362799          130242.0  D92BE120CD99553CA5FFDFE452A95D4E 2022-11-21   \n",
       "362808          153630.0  580717CA2E4E033BA83766F16C53AB02 2022-11-21   \n",
       "\n",
       "        cnt_cumsum_sold  \n",
       "5                 440.0  \n",
       "36                 28.0  \n",
       "38                170.0  \n",
       "61                355.0  \n",
       "69                929.0  \n",
       "...                 ...  \n",
       "362790         183259.0  \n",
       "362791         132445.0  \n",
       "362798         186082.0  \n",
       "362799         154192.0  \n",
       "362808         330405.0  \n",
       "\n",
       "[36500 rows x 4 columns]"
      ]
     },
     "execution_count": 20,
     "metadata": {},
     "output_type": "execute_result"
    }
   ],
   "source": [
    "day_data[day_data.gtin.isin(top_100_gtin_sold)]"
   ]
  },
  {
   "cell_type": "code",
   "execution_count": null,
   "metadata": {},
   "outputs": [],
   "source": []
  },
  {
   "cell_type": "code",
   "execution_count": null,
   "metadata": {},
   "outputs": [],
   "source": []
  }
 ],
 "metadata": {
  "kernelspec": {
   "display_name": "Python 3",
   "language": "python",
   "name": "python3"
  },
  "language_info": {
   "codemirror_mode": {
    "name": "ipython",
    "version": 3
   },
   "file_extension": ".py",
   "mimetype": "text/x-python",
   "name": "python",
   "nbconvert_exporter": "python",
   "pygments_lexer": "ipython3",
   "version": "3.11.2"
  },
  "orig_nbformat": 4
 },
 "nbformat": 4,
 "nbformat_minor": 2
}
