{
 "cells": [
  {
   "cell_type": "code",
   "execution_count": 1,
   "metadata": {},
   "outputs": [],
   "source": [
    "import warnings\n",
    "warnings.filterwarnings(\"ignore\")\n",
    "import seaborn as sns\n",
    "import numpy as np\n",
    "import pandas as pd\n",
    "import matplotlib.pyplot as plt\n",
    "\n",
    "from sklearn.preprocessing import MinMaxScaler"
   ]
  },
  {
   "cell_type": "code",
   "execution_count": 90,
   "metadata": {},
   "outputs": [],
   "source": [
    "prod_entry = pd.read_csv('C:/Users/Daniil_pc/Downloads/Данные о вводе товаров в оборот с 2021-11-22 по 2022-11-21.csv')\n",
    "#prod_entry = pd.read_csv('C:/Users/Daniil_pc/Downloads/Данные о вводе товаров в оборот с 2022-11-22 по 2023-02-21 проверка.csv')\n",
    "point_reference = pd.read_csv('C:/Users/Daniil_pc/Downloads/Справочник торговых точек.csv')\n",
    "#prod_with = pd.read_csv('C:/Users/Daniil_pc/Downloads/Данные о выводе товаров из оборота с 2022-11-22 по 2023-02-21 проверка.csv')\n",
    "prod_with = pd.read_csv('C:/Users/Daniil_pc/Downloads/Данные о выводе товаров из оборота с 2021-11-22 по 2022-11-21.csv')"
   ]
  },
  {
   "cell_type": "markdown",
   "metadata": {},
   "source": [
    "Выделение топ 1000 gtin по выводу из оборота"
   ]
  },
  {
   "cell_type": "code",
   "execution_count": 91,
   "metadata": {},
   "outputs": [],
   "source": [
    "prod_entry_cnt = prod_entry.groupby('gtin', as_index=False).agg({'cnt' : 'sum'}).rename(columns={'cnt' : 'consumption'})\n",
    "prod_with_cnt = prod_with.groupby('gtin', as_index=False).agg({'cnt' : 'sum'})\n",
    "\n",
    "top_1000_gtin = prod_with_cnt.merge(prod_entry_cnt, on='gtin', how='inner').sort_values('consumption')[-1000:].gtin"
   ]
  },
  {
   "cell_type": "code",
   "execution_count": 92,
   "metadata": {},
   "outputs": [],
   "source": [
    "top_1000_prod_with = prod_with[prod_with.gtin.isin(top_1000_gtin)]\n",
    "\n",
    "inn_reg = dict(zip(point_reference.inn, point_reference.region_code))\n",
    "top_1000_prod_with['reg_id'] = top_1000_prod_with['inn'].map(inn_reg).dropna().astype('int') #попробовать заменить на join"
   ]
  },
  {
   "cell_type": "markdown",
   "metadata": {},
   "source": [
    "# Создание датафрейма вывода из производства по регионам"
   ]
  },
  {
   "cell_type": "code",
   "execution_count": 93,
   "metadata": {},
   "outputs": [],
   "source": [
    "def demand_by_region(df, interval='month'): #Возможные значения interval: month, week\n",
    "    if interval == 'month':\n",
    "        df['dt_d'] = df.dt.apply(lambda x: f'{x.year}.{x.month}')\n",
    "    elif interval == 'week':\n",
    "        df['dt_d'] = df.dt.apply(lambda x: f'{x.year}.{x.week}')\n",
    "    else:\n",
    "        print('Введен неправильный интервал')\n",
    "        return\n",
    "    grouped = df.groupby(['gtin', 'type_operation', 'reg_id', 'dt_d'], as_index=False).agg({'cnt' : 'sum', 'dt': 'max'})\n",
    "    return grouped[['gtin', 'type_operation', 'reg_id', 'cnt', 'dt']]"
   ]
  },
  {
   "cell_type": "markdown",
   "metadata": {},
   "source": [
    "Переименовывание типа операций в 2 класса: продано и выведено из оборота"
   ]
  },
  {
   "cell_type": "code",
   "execution_count": 94,
   "metadata": {},
   "outputs": [],
   "source": [
    "sold_names = ['Продажа конечному потребителю в точке продаж', \n",
    " 'Дистанционная продажа конечному потребителю', \n",
    " 'Конечная продажа организации', \n",
    " 'Продажи за пределы РФ', \n",
    " 'Продажа по государственному контракту']\n",
    "write_off = ['Списание / Вывод из оборота без получателя', 'Прочий тип вывода из оборота']\n",
    "\n",
    "closed_gtin = top_1000_prod_with.copy()\n",
    " \n",
    "closed_gtin.type_operation = closed_gtin.type_operation.apply(lambda x: 'sold' if x in sold_names else 'write_off')\n",
    "closed_gtin.dt = pd.to_datetime(top_1000_prod_with.dt)"
   ]
  },
  {
   "cell_type": "markdown",
   "metadata": {},
   "source": [
    "группировка датафрейма по gtin, type_operation, reg_id, dt_d с подсчетом общей суммы за неделю"
   ]
  },
  {
   "cell_type": "code",
   "execution_count": 97,
   "metadata": {},
   "outputs": [],
   "source": [
    "flight_data = demand_by_region(closed_gtin, interval='week')"
   ]
  },
  {
   "cell_type": "markdown",
   "metadata": {},
   "source": [
    "Удаление gtin, у которых есть данные меньше чем за 13 недель (нужно для работы предсказаний)"
   ]
  },
  {
   "cell_type": "code",
   "execution_count": 98,
   "metadata": {},
   "outputs": [
    {
     "data": {
      "text/html": [
       "<div>\n",
       "<style scoped>\n",
       "    .dataframe tbody tr th:only-of-type {\n",
       "        vertical-align: middle;\n",
       "    }\n",
       "\n",
       "    .dataframe tbody tr th {\n",
       "        vertical-align: top;\n",
       "    }\n",
       "\n",
       "    .dataframe thead th {\n",
       "        text-align: right;\n",
       "    }\n",
       "</style>\n",
       "<table border=\"1\" class=\"dataframe\">\n",
       "  <thead>\n",
       "    <tr style=\"text-align: right;\">\n",
       "      <th></th>\n",
       "      <th>gtin</th>\n",
       "      <th>type_operation</th>\n",
       "      <th>reg_id</th>\n",
       "      <th>cnt</th>\n",
       "      <th>dt</th>\n",
       "    </tr>\n",
       "  </thead>\n",
       "  <tbody>\n",
       "    <tr>\n",
       "      <th>7006</th>\n",
       "      <td>0282BDC89C99B4A3828F6EBAA32E6708</td>\n",
       "      <td>sold</td>\n",
       "      <td>50.0</td>\n",
       "      <td>6655</td>\n",
       "      <td>2021-11-28</td>\n",
       "    </tr>\n",
       "    <tr>\n",
       "      <th>7007</th>\n",
       "      <td>0282BDC89C99B4A3828F6EBAA32E6708</td>\n",
       "      <td>sold</td>\n",
       "      <td>50.0</td>\n",
       "      <td>4125</td>\n",
       "      <td>2021-12-05</td>\n",
       "    </tr>\n",
       "    <tr>\n",
       "      <th>7008</th>\n",
       "      <td>0282BDC89C99B4A3828F6EBAA32E6708</td>\n",
       "      <td>sold</td>\n",
       "      <td>50.0</td>\n",
       "      <td>1033</td>\n",
       "      <td>2021-12-12</td>\n",
       "    </tr>\n",
       "    <tr>\n",
       "      <th>7009</th>\n",
       "      <td>0282BDC89C99B4A3828F6EBAA32E6708</td>\n",
       "      <td>sold</td>\n",
       "      <td>50.0</td>\n",
       "      <td>776</td>\n",
       "      <td>2021-12-19</td>\n",
       "    </tr>\n",
       "    <tr>\n",
       "      <th>7010</th>\n",
       "      <td>0282BDC89C99B4A3828F6EBAA32E6708</td>\n",
       "      <td>sold</td>\n",
       "      <td>50.0</td>\n",
       "      <td>261</td>\n",
       "      <td>2021-12-26</td>\n",
       "    </tr>\n",
       "    <tr>\n",
       "      <th>...</th>\n",
       "      <td>...</td>\n",
       "      <td>...</td>\n",
       "      <td>...</td>\n",
       "      <td>...</td>\n",
       "      <td>...</td>\n",
       "    </tr>\n",
       "    <tr>\n",
       "      <th>931242</th>\n",
       "      <td>FC2186495AC107CB2BBBFF96D2DE6D71</td>\n",
       "      <td>sold</td>\n",
       "      <td>77.0</td>\n",
       "      <td>145</td>\n",
       "      <td>2022-01-02</td>\n",
       "    </tr>\n",
       "    <tr>\n",
       "      <th>931243</th>\n",
       "      <td>FC2186495AC107CB2BBBFF96D2DE6D71</td>\n",
       "      <td>sold</td>\n",
       "      <td>77.0</td>\n",
       "      <td>5534</td>\n",
       "      <td>2022-02-13</td>\n",
       "    </tr>\n",
       "    <tr>\n",
       "      <th>931244</th>\n",
       "      <td>FC2186495AC107CB2BBBFF96D2DE6D71</td>\n",
       "      <td>sold</td>\n",
       "      <td>77.0</td>\n",
       "      <td>5542</td>\n",
       "      <td>2022-02-20</td>\n",
       "    </tr>\n",
       "    <tr>\n",
       "      <th>931245</th>\n",
       "      <td>FC2186495AC107CB2BBBFF96D2DE6D71</td>\n",
       "      <td>sold</td>\n",
       "      <td>77.0</td>\n",
       "      <td>3180</td>\n",
       "      <td>2022-02-27</td>\n",
       "    </tr>\n",
       "    <tr>\n",
       "      <th>931246</th>\n",
       "      <td>FC2186495AC107CB2BBBFF96D2DE6D71</td>\n",
       "      <td>sold</td>\n",
       "      <td>77.0</td>\n",
       "      <td>1175</td>\n",
       "      <td>2022-03-06</td>\n",
       "    </tr>\n",
       "  </tbody>\n",
       "</table>\n",
       "<p>92632 rows × 5 columns</p>\n",
       "</div>"
      ],
      "text/plain": [
       "                                    gtin type_operation  reg_id   cnt  \\\n",
       "7006    0282BDC89C99B4A3828F6EBAA32E6708           sold    50.0  6655   \n",
       "7007    0282BDC89C99B4A3828F6EBAA32E6708           sold    50.0  4125   \n",
       "7008    0282BDC89C99B4A3828F6EBAA32E6708           sold    50.0  1033   \n",
       "7009    0282BDC89C99B4A3828F6EBAA32E6708           sold    50.0   776   \n",
       "7010    0282BDC89C99B4A3828F6EBAA32E6708           sold    50.0   261   \n",
       "...                                  ...            ...     ...   ...   \n",
       "931242  FC2186495AC107CB2BBBFF96D2DE6D71           sold    77.0   145   \n",
       "931243  FC2186495AC107CB2BBBFF96D2DE6D71           sold    77.0  5534   \n",
       "931244  FC2186495AC107CB2BBBFF96D2DE6D71           sold    77.0  5542   \n",
       "931245  FC2186495AC107CB2BBBFF96D2DE6D71           sold    77.0  3180   \n",
       "931246  FC2186495AC107CB2BBBFF96D2DE6D71           sold    77.0  1175   \n",
       "\n",
       "               dt  \n",
       "7006   2021-11-28  \n",
       "7007   2021-12-05  \n",
       "7008   2021-12-12  \n",
       "7009   2021-12-19  \n",
       "7010   2021-12-26  \n",
       "...           ...  \n",
       "931242 2022-01-02  \n",
       "931243 2022-02-13  \n",
       "931244 2022-02-20  \n",
       "931245 2022-02-27  \n",
       "931246 2022-03-06  \n",
       "\n",
       "[92632 rows x 5 columns]"
      ]
     },
     "execution_count": 98,
     "metadata": {},
     "output_type": "execute_result"
    }
   ],
   "source": [
    "flight_data = flight_data[flight_data['type_operation'] == 'sold']\n",
    "\n",
    "q = flight_data.groupby(['gtin', 'reg_id'], as_index=False).agg({'dt' : 'count', 'cnt' : 'sum'})\n",
    "q = q[q.dt > 12]\n",
    "\n",
    "qww = flight_data[flight_data.gtin.isin(q.groupby('gtin').cnt.sum().sort_values()[-100:].index.to_list())]\n",
    "qww"
   ]
  },
  {
   "cell_type": "code",
   "execution_count": null,
   "metadata": {},
   "outputs": [],
   "source": [
    "qww.to_csv('new_week_closed_gtin.csv', index=False)"
   ]
  },
  {
   "cell_type": "markdown",
   "metadata": {},
   "source": [
    "# Создание датафрейма ввода в производство и вывода из производства по стране"
   ]
  },
  {
   "cell_type": "code",
   "execution_count": 54,
   "metadata": {},
   "outputs": [],
   "source": [
    "def demand_country_without_date(df):\n",
    "    grouped = df.groupby(['gtin', 'dt'], as_index=False).agg({'cnt' : 'sum'})\n",
    "    return grouped[['gtin', 'cnt', 'dt']]"
   ]
  },
  {
   "cell_type": "markdown",
   "metadata": {},
   "source": [
    "Группировка по gtin и dt с подсчетом общей суммы в день"
   ]
  },
  {
   "cell_type": "code",
   "execution_count": null,
   "metadata": {},
   "outputs": [],
   "source": [
    "grouped_country_sold = demand_country_without_date(closed_gtin)"
   ]
  },
  {
   "cell_type": "markdown",
   "metadata": {},
   "source": [
    "Подсчет кумулятивных сумм для введения в производство"
   ]
  },
  {
   "cell_type": "code",
   "execution_count": 55,
   "metadata": {},
   "outputs": [
    {
     "data": {
      "text/html": [
       "<div>\n",
       "<style scoped>\n",
       "    .dataframe tbody tr th:only-of-type {\n",
       "        vertical-align: middle;\n",
       "    }\n",
       "\n",
       "    .dataframe tbody tr th {\n",
       "        vertical-align: top;\n",
       "    }\n",
       "\n",
       "    .dataframe thead th {\n",
       "        text-align: right;\n",
       "    }\n",
       "</style>\n",
       "<table border=\"1\" class=\"dataframe\">\n",
       "  <thead>\n",
       "    <tr style=\"text-align: right;\">\n",
       "      <th></th>\n",
       "      <th>gtin</th>\n",
       "      <th>cnt</th>\n",
       "      <th>dt</th>\n",
       "      <th>cnt_cumsum</th>\n",
       "    </tr>\n",
       "  </thead>\n",
       "  <tbody>\n",
       "    <tr>\n",
       "      <th>34100</th>\n",
       "      <td>714C54AE621F433045BB1F502052ABFD</td>\n",
       "      <td>59</td>\n",
       "      <td>2022-11-22</td>\n",
       "      <td>59</td>\n",
       "    </tr>\n",
       "    <tr>\n",
       "      <th>48684</th>\n",
       "      <td>9E2A6A3E6B3B5916248B3980BA270BBC</td>\n",
       "      <td>251</td>\n",
       "      <td>2022-11-22</td>\n",
       "      <td>251</td>\n",
       "    </tr>\n",
       "    <tr>\n",
       "      <th>65630</th>\n",
       "      <td>CF98CDA56AA9505D05D3F51C404F85FD</td>\n",
       "      <td>22</td>\n",
       "      <td>2022-11-22</td>\n",
       "      <td>22</td>\n",
       "    </tr>\n",
       "    <tr>\n",
       "      <th>23879</th>\n",
       "      <td>522B96F9066E142A2DB98C97795E64A8</td>\n",
       "      <td>45</td>\n",
       "      <td>2022-11-22</td>\n",
       "      <td>45</td>\n",
       "    </tr>\n",
       "    <tr>\n",
       "      <th>65071</th>\n",
       "      <td>CDBEA39F10B7940DE5397B73F512EE6F</td>\n",
       "      <td>65</td>\n",
       "      <td>2022-11-22</td>\n",
       "      <td>65</td>\n",
       "    </tr>\n",
       "    <tr>\n",
       "      <th>...</th>\n",
       "      <td>...</td>\n",
       "      <td>...</td>\n",
       "      <td>...</td>\n",
       "      <td>...</td>\n",
       "    </tr>\n",
       "    <tr>\n",
       "      <th>20652</th>\n",
       "      <td>428580681C21CCC2DA098F10BC1D5B49</td>\n",
       "      <td>140</td>\n",
       "      <td>2023-02-21</td>\n",
       "      <td>8401</td>\n",
       "    </tr>\n",
       "    <tr>\n",
       "      <th>20560</th>\n",
       "      <td>41DBF239CB1DA8E392050F1F55ACB8CD</td>\n",
       "      <td>202</td>\n",
       "      <td>2023-02-21</td>\n",
       "      <td>29827</td>\n",
       "    </tr>\n",
       "    <tr>\n",
       "      <th>64277</th>\n",
       "      <td>CA9142169084414806A27E7204F3A2D2</td>\n",
       "      <td>223</td>\n",
       "      <td>2023-02-21</td>\n",
       "      <td>12996</td>\n",
       "    </tr>\n",
       "    <tr>\n",
       "      <th>19550</th>\n",
       "      <td>3F2FB695D4F981545902C4700A03BEF2</td>\n",
       "      <td>938</td>\n",
       "      <td>2023-02-21</td>\n",
       "      <td>102543</td>\n",
       "    </tr>\n",
       "    <tr>\n",
       "      <th>81804</th>\n",
       "      <td>FFFA84FC6402E3B4EBD9EBC8865A99BD</td>\n",
       "      <td>292</td>\n",
       "      <td>2023-02-21</td>\n",
       "      <td>11894</td>\n",
       "    </tr>\n",
       "  </tbody>\n",
       "</table>\n",
       "<p>81805 rows × 4 columns</p>\n",
       "</div>"
      ],
      "text/plain": [
       "                                   gtin  cnt         dt  cnt_cumsum\n",
       "34100  714C54AE621F433045BB1F502052ABFD   59 2022-11-22          59\n",
       "48684  9E2A6A3E6B3B5916248B3980BA270BBC  251 2022-11-22         251\n",
       "65630  CF98CDA56AA9505D05D3F51C404F85FD   22 2022-11-22          22\n",
       "23879  522B96F9066E142A2DB98C97795E64A8   45 2022-11-22          45\n",
       "65071  CDBEA39F10B7940DE5397B73F512EE6F   65 2022-11-22          65\n",
       "...                                 ...  ...        ...         ...\n",
       "20652  428580681C21CCC2DA098F10BC1D5B49  140 2023-02-21        8401\n",
       "20560  41DBF239CB1DA8E392050F1F55ACB8CD  202 2023-02-21       29827\n",
       "64277  CA9142169084414806A27E7204F3A2D2  223 2023-02-21       12996\n",
       "19550  3F2FB695D4F981545902C4700A03BEF2  938 2023-02-21      102543\n",
       "81804  FFFA84FC6402E3B4EBD9EBC8865A99BD  292 2023-02-21       11894\n",
       "\n",
       "[81805 rows x 4 columns]"
      ]
     },
     "execution_count": 55,
     "metadata": {},
     "output_type": "execute_result"
    }
   ],
   "source": [
    "grouped_country_just_sold = grouped_country_sold.sort_values('dt')\n",
    "grouped_country_just_sold['cnt_cumsum'] = grouped_country_just_sold.groupby('gtin').cnt.cumsum()\n",
    "grouped_country_just_sold"
   ]
  },
  {
   "cell_type": "markdown",
   "metadata": {},
   "source": [
    "Подсчет кумулятивных сумм для выведения из производства с выделением топ 1000 gtin по выведению из производства"
   ]
  },
  {
   "cell_type": "code",
   "execution_count": 56,
   "metadata": {},
   "outputs": [
    {
     "data": {
      "text/html": [
       "<div>\n",
       "<style scoped>\n",
       "    .dataframe tbody tr th:only-of-type {\n",
       "        vertical-align: middle;\n",
       "    }\n",
       "\n",
       "    .dataframe tbody tr th {\n",
       "        vertical-align: top;\n",
       "    }\n",
       "\n",
       "    .dataframe thead th {\n",
       "        text-align: right;\n",
       "    }\n",
       "</style>\n",
       "<table border=\"1\" class=\"dataframe\">\n",
       "  <thead>\n",
       "    <tr style=\"text-align: right;\">\n",
       "      <th></th>\n",
       "      <th>gtin</th>\n",
       "      <th>cnt</th>\n",
       "      <th>dt</th>\n",
       "      <th>cnt_cumsum</th>\n",
       "    </tr>\n",
       "  </thead>\n",
       "  <tbody>\n",
       "    <tr>\n",
       "      <th>3086</th>\n",
       "      <td>C7F18807913E04D804C573ED136F0D0D</td>\n",
       "      <td>5379</td>\n",
       "      <td>2022-11-22</td>\n",
       "      <td>5379</td>\n",
       "    </tr>\n",
       "    <tr>\n",
       "      <th>2959</th>\n",
       "      <td>C0D57D3B6C262FEFAA76EB74D6EDA3E9</td>\n",
       "      <td>5010</td>\n",
       "      <td>2022-11-22</td>\n",
       "      <td>5010</td>\n",
       "    </tr>\n",
       "    <tr>\n",
       "      <th>3844</th>\n",
       "      <td>FBDDC952026B20447B76EBD2EF8F4B5B</td>\n",
       "      <td>8565</td>\n",
       "      <td>2022-11-22</td>\n",
       "      <td>8565</td>\n",
       "    </tr>\n",
       "    <tr>\n",
       "      <th>2362</th>\n",
       "      <td>A0B7941CBA9B672A4D4770A03C8ADD3C</td>\n",
       "      <td>10032</td>\n",
       "      <td>2022-11-22</td>\n",
       "      <td>10032</td>\n",
       "    </tr>\n",
       "    <tr>\n",
       "      <th>2365</th>\n",
       "      <td>A113B66FD0F1B2B968C224126ECF0953</td>\n",
       "      <td>1500</td>\n",
       "      <td>2022-11-22</td>\n",
       "      <td>1500</td>\n",
       "    </tr>\n",
       "    <tr>\n",
       "      <th>...</th>\n",
       "      <td>...</td>\n",
       "      <td>...</td>\n",
       "      <td>...</td>\n",
       "      <td>...</td>\n",
       "    </tr>\n",
       "    <tr>\n",
       "      <th>176</th>\n",
       "      <td>0DC8786077E537CF63A0A3D6CABF8910</td>\n",
       "      <td>9306</td>\n",
       "      <td>2023-02-21</td>\n",
       "      <td>9306</td>\n",
       "    </tr>\n",
       "    <tr>\n",
       "      <th>715</th>\n",
       "      <td>34F1210B4E01269908C906323F54AAC4</td>\n",
       "      <td>9960</td>\n",
       "      <td>2023-02-21</td>\n",
       "      <td>41976</td>\n",
       "    </tr>\n",
       "    <tr>\n",
       "      <th>3901</th>\n",
       "      <td>FD875B7D4C490C080227D7ECB05023CF</td>\n",
       "      <td>45</td>\n",
       "      <td>2023-02-21</td>\n",
       "      <td>12600</td>\n",
       "    </tr>\n",
       "    <tr>\n",
       "      <th>2395</th>\n",
       "      <td>A3587AABEF2788A88A9AA73470FE1953</td>\n",
       "      <td>2336</td>\n",
       "      <td>2023-02-21</td>\n",
       "      <td>9344</td>\n",
       "    </tr>\n",
       "    <tr>\n",
       "      <th>3452</th>\n",
       "      <td>E078B288D847031DEFFB0D312ABBD99B</td>\n",
       "      <td>3000</td>\n",
       "      <td>2023-02-21</td>\n",
       "      <td>9104</td>\n",
       "    </tr>\n",
       "  </tbody>\n",
       "</table>\n",
       "<p>3935 rows × 4 columns</p>\n",
       "</div>"
      ],
      "text/plain": [
       "                                  gtin    cnt         dt  cnt_cumsum\n",
       "3086  C7F18807913E04D804C573ED136F0D0D   5379 2022-11-22        5379\n",
       "2959  C0D57D3B6C262FEFAA76EB74D6EDA3E9   5010 2022-11-22        5010\n",
       "3844  FBDDC952026B20447B76EBD2EF8F4B5B   8565 2022-11-22        8565\n",
       "2362  A0B7941CBA9B672A4D4770A03C8ADD3C  10032 2022-11-22       10032\n",
       "2365  A113B66FD0F1B2B968C224126ECF0953   1500 2022-11-22        1500\n",
       "...                                ...    ...        ...         ...\n",
       "176   0DC8786077E537CF63A0A3D6CABF8910   9306 2023-02-21        9306\n",
       "715   34F1210B4E01269908C906323F54AAC4   9960 2023-02-21       41976\n",
       "3901  FD875B7D4C490C080227D7ECB05023CF     45 2023-02-21       12600\n",
       "2395  A3587AABEF2788A88A9AA73470FE1953   2336 2023-02-21        9344\n",
       "3452  E078B288D847031DEFFB0D312ABBD99B   3000 2023-02-21        9104\n",
       "\n",
       "[3935 rows x 4 columns]"
      ]
     },
     "execution_count": 56,
     "metadata": {},
     "output_type": "execute_result"
    }
   ],
   "source": [
    "top_1000_prod_entry = prod_entry[prod_entry.gtin.isin(top_1000_gtin)]\n",
    "top_1000_prod_entry.dt = pd.to_datetime(top_1000_prod_entry.dt)\n",
    "mas1 = ['Импорт. Не ЕАЭС', 'РФ', 'Импорт. ЕАЭС', 'Принято от физического лица']\n",
    "top_1000_prod_entry['type_operation'] = top_1000_prod_entry.operation_type.apply(lambda x: 'entering' if x in mas1 else 'else')\n",
    "grouped_country_entry = demand_country_without_date(top_1000_prod_entry[top_1000_prod_entry.type_operation == 'entering']).sort_values('dt')\n",
    "grouped_country_entry['cnt_cumsum'] = grouped_country_entry.groupby('gtin').cnt.cumsum()\n",
    "grouped_country_entry"
   ]
  },
  {
   "cell_type": "markdown",
   "metadata": {},
   "source": [
    "Добавление первого по дате (со значением 0) и последнего по дате (с макс значением) значения cnt_cumsum для каждого gtin "
   ]
  },
  {
   "cell_type": "code",
   "execution_count": 57,
   "metadata": {},
   "outputs": [],
   "source": [
    "df_append_cnt_cumsum = grouped_country_entry.groupby('gtin', as_index=False).cnt_cumsum.max()\n",
    "df_append_max = grouped_country_just_sold.groupby('gtin', as_index=False).dt.max()\n",
    "df_append_max['cnt_cumsum'] = df_append_max.merge(df_append_cnt_cumsum, on=['gtin'], how='left').cnt_cumsum\n",
    "df_append_min_1 = grouped_country_just_sold.groupby('gtin', as_index=False).dt.min()\n",
    "df_append_min_2 = grouped_country_entry.groupby('gtin', as_index=False).dt.min()\n",
    "df_append_min = df_append_min_2.merge(df_append_min_1[df_append_min_1.gtin.isin(df_append_min_2.gtin.values)], on='gtin', how='inner')\n",
    "df_append_min['dt'] = df_append_min[['dt_x', 'dt_y']].min(axis=1)\n",
    "df_append_min = df_append_min[['gtin', 'dt']] \n",
    "df_append_min['cnt_cumsum'] = 0\n",
    "df_append = pd.concat([df_append_max, df_append_min])\n",
    "df_append['cnt'] = 0\n",
    "grouped_country_entry_fin = pd.concat([grouped_country_entry,df_append]).groupby(['gtin', 'dt'], as_index=False).cnt_cumsum.max().sort_values('dt')\n",
    "grouped_country_just_sold_fin = pd.concat([grouped_country_just_sold[['gtin', 'dt', 'cnt_cumsum']], df_append_min]).groupby(['gtin', 'dt'], as_index=False).cnt_cumsum.max().sort_values('dt')"
   ]
  },
  {
   "cell_type": "markdown",
   "metadata": {},
   "source": [
    "Добавление всех недостающих дней года в датафреймы"
   ]
  },
  {
   "cell_type": "code",
   "execution_count": 60,
   "metadata": {},
   "outputs": [],
   "source": [
    "year_by_day = pd.DataFrame(pd.date_range(grouped_country_just_sold_fin.dt.min(), grouped_country_just_sold_fin.dt.max()))"
   ]
  },
  {
   "cell_type": "code",
   "execution_count": 61,
   "metadata": {},
   "outputs": [],
   "source": [
    "gtins = grouped_country_just_sold_fin[['gtin']].drop_duplicates()"
   ]
  },
  {
   "cell_type": "code",
   "execution_count": 62,
   "metadata": {},
   "outputs": [],
   "source": [
    "df_for_append = gtins.merge(year_by_day, how='cross').rename(columns={0: 'dt'})"
   ]
  },
  {
   "cell_type": "code",
   "execution_count": 64,
   "metadata": {},
   "outputs": [],
   "source": [
    "super_puper_df_sold = grouped_country_just_sold_fin.merge(df_for_append, how='right', on=['gtin', 'dt']).sort_values('dt')\n",
    "super_puper_df_sold_2 = super_puper_df_sold.groupby('gtin', as_index=False).cnt_cumsum.fillna(method='backfill')\n",
    "super_puper_df_sold_3 = super_puper_df_sold_2.merge(super_puper_df_sold, how='inner', right_index=True, left_index=True)\n",
    "super_puper_df_sold_3 = super_puper_df_sold_3.groupby('gtin', as_index=False).cnt_cumsum_x.fillna(method='ffill')\n",
    "super_puper_df_sold_3 = super_puper_df_sold_3.merge(super_puper_df_sold, how='inner', right_index=True, left_index=True)"
   ]
  },
  {
   "cell_type": "code",
   "execution_count": 66,
   "metadata": {},
   "outputs": [],
   "source": [
    "super_puper_df_entry = grouped_country_entry_fin.merge(df_for_append, how='right', on=['gtin', 'dt']).sort_values('dt')\n",
    "super_puper_df_entry_2 = super_puper_df_entry.groupby('gtin', as_index=False).cnt_cumsum.fillna(method='backfill')\n",
    "super_puper_df_entry_3 = super_puper_df_entry_2.merge(super_puper_df_entry, how='inner', right_index=True, left_index=True)\n",
    "super_puper_df_entry_3 = super_puper_df_entry_3.groupby('gtin', as_index=False).cnt_cumsum_x.fillna(method='ffill')\n",
    "super_puper_df_entry_3 = super_puper_df_entry_3.merge(super_puper_df_entry, how='inner', right_index=True, left_index=True)"
   ]
  },
  {
   "cell_type": "code",
   "execution_count": 67,
   "metadata": {},
   "outputs": [],
   "source": [
    "super_puper_df_entry_4 = super_puper_df_entry_3.copy()\n",
    "super_puper_df_entry_3 = super_puper_df_entry_4.dropna(subset='cnt_cumsum_x').drop(columns=['cnt_cumsum']).rename(columns={'cnt_cumsum_x' : 'cnt_cumsum'})\n",
    "uniq_gtin = super_puper_df_entry_3.gtin.unique()\n",
    "super_puper_df_sold_3 = super_puper_df_sold_3[super_puper_df_sold_3.gtin.isin(uniq_gtin)].drop(columns=['cnt_cumsum']).rename(columns={'cnt_cumsum_x' : 'cnt_cumsum'})"
   ]
  },
  {
   "cell_type": "markdown",
   "metadata": {},
   "source": [
    "Соединение ввода в производство и вывода из производства в один датафрейм"
   ]
  },
  {
   "cell_type": "code",
   "execution_count": 70,
   "metadata": {},
   "outputs": [],
   "source": [
    "super_puper_final_df = super_puper_df_entry_3.merge(super_puper_df_sold_3, how='inner', on=['gtin', 'dt']).rename(columns={'cnt_cumsum_x' : 'cnt_cumsum_entry', 'cnt_cumsum_y' : 'cnt_cumsum_sold'})"
   ]
  },
  {
   "cell_type": "code",
   "execution_count": 74,
   "metadata": {},
   "outputs": [],
   "source": [
    "super_puper_final_df.to_csv('super_puper_final_df.csv')"
   ]
  },
  {
   "cell_type": "code",
   "execution_count": 71,
   "metadata": {},
   "outputs": [
    {
     "data": {
      "text/plain": [
       "<AxesSubplot:xlabel='dt', ylabel='cnt_cumsum'>"
      ]
     },
     "execution_count": 71,
     "metadata": {},
     "output_type": "execute_result"
    },
    {
     "data": {
      "image/png": "[encoded data removed]",
      "text/plain": [
       "<Figure size 640x480 with 1 Axes>"
      ]
     },
     "metadata": {},
     "output_type": "display_data"
    }
   ],
   "source": [
    "sns.lineplot(data=super_puper_df_sold_3[super_puper_df_sold_3.gtin == 'DCA08213622BA33C8D19CD551425EF15'], x='dt', y='cnt_cumsum')\n",
    "sns.lineplot(data=super_puper_df_entry_3[super_puper_df_entry_3.gtin == 'DCA08213622BA33C8D19CD551425EF15'], x='dt', y='cnt_cumsum')"
   ]
  },
  {
   "cell_type": "code",
   "execution_count": null,
   "metadata": {},
   "outputs": [],
   "source": []
  },
  {
   "cell_type": "code",
   "execution_count": null,
   "metadata": {},
   "outputs": [],
   "source": []
  },
  {
   "cell_type": "markdown",
   "metadata": {},
   "source": [
    "Создание датафрейма для сравнения предсказания с реальными данными, для этого изначально надо прочитать файлы по последним временным промежуткам"
   ]
  },
  {
   "cell_type": "code",
   "execution_count": null,
   "metadata": {},
   "outputs": [],
   "source": [
    "predicted = pd.read_csv('C:/Users/Daniil_pc/Downloads/big_df_rus.csv')"
   ]
  },
  {
   "cell_type": "code",
   "execution_count": 88,
   "metadata": {},
   "outputs": [
    {
     "data": {
      "text/html": [
       "<div>\n",
       "<style scoped>\n",
       "    .dataframe tbody tr th:only-of-type {\n",
       "        vertical-align: middle;\n",
       "    }\n",
       "\n",
       "    .dataframe tbody tr th {\n",
       "        vertical-align: top;\n",
       "    }\n",
       "\n",
       "    .dataframe thead th {\n",
       "        text-align: right;\n",
       "    }\n",
       "</style>\n",
       "<table border=\"1\" class=\"dataframe\">\n",
       "  <thead>\n",
       "    <tr style=\"text-align: right;\">\n",
       "      <th></th>\n",
       "      <th>cnt_cumsum_entry</th>\n",
       "      <th>gtin</th>\n",
       "      <th>dt</th>\n",
       "      <th>cnt_cumsum_sold</th>\n",
       "      <th>type</th>\n",
       "      <th>metric</th>\n",
       "    </tr>\n",
       "  </thead>\n",
       "  <tbody>\n",
       "    <tr>\n",
       "      <th>20448</th>\n",
       "      <td>0.0</td>\n",
       "      <td>0282BDC89C99B4A3828F6EBAA32E6708</td>\n",
       "      <td>2021-11-22</td>\n",
       "      <td>779.0</td>\n",
       "      <td>real_data</td>\n",
       "      <td>-0.025373</td>\n",
       "    </tr>\n",
       "    <tr>\n",
       "      <th>20449</th>\n",
       "      <td>18000.0</td>\n",
       "      <td>0282BDC89C99B4A3828F6EBAA32E6708</td>\n",
       "      <td>2021-11-23</td>\n",
       "      <td>1148.0</td>\n",
       "      <td>real_data</td>\n",
       "      <td>-0.025373</td>\n",
       "    </tr>\n",
       "    <tr>\n",
       "      <th>20450</th>\n",
       "      <td>18000.0</td>\n",
       "      <td>0282BDC89C99B4A3828F6EBAA32E6708</td>\n",
       "      <td>2021-11-24</td>\n",
       "      <td>4165.0</td>\n",
       "      <td>real_data</td>\n",
       "      <td>-0.025373</td>\n",
       "    </tr>\n",
       "    <tr>\n",
       "      <th>20451</th>\n",
       "      <td>18000.0</td>\n",
       "      <td>0282BDC89C99B4A3828F6EBAA32E6708</td>\n",
       "      <td>2021-11-25</td>\n",
       "      <td>4964.0</td>\n",
       "      <td>real_data</td>\n",
       "      <td>-0.025373</td>\n",
       "    </tr>\n",
       "    <tr>\n",
       "      <th>20452</th>\n",
       "      <td>18000.0</td>\n",
       "      <td>0282BDC89C99B4A3828F6EBAA32E6708</td>\n",
       "      <td>2021-11-26</td>\n",
       "      <td>5914.0</td>\n",
       "      <td>real_data</td>\n",
       "      <td>-0.025373</td>\n",
       "    </tr>\n",
       "    <tr>\n",
       "      <th>...</th>\n",
       "      <td>...</td>\n",
       "      <td>...</td>\n",
       "      <td>...</td>\n",
       "      <td>...</td>\n",
       "      <td>...</td>\n",
       "      <td>...</td>\n",
       "    </tr>\n",
       "    <tr>\n",
       "      <th>87764</th>\n",
       "      <td>20300.0</td>\n",
       "      <td>FC2186495AC107CB2BBBFF96D2DE6D71</td>\n",
       "      <td>2023-02-17</td>\n",
       "      <td>14793.0</td>\n",
       "      <td>test</td>\n",
       "      <td>0.000000</td>\n",
       "    </tr>\n",
       "    <tr>\n",
       "      <th>87987</th>\n",
       "      <td>20300.0</td>\n",
       "      <td>FC2186495AC107CB2BBBFF96D2DE6D71</td>\n",
       "      <td>2023-02-18</td>\n",
       "      <td>14799.0</td>\n",
       "      <td>test</td>\n",
       "      <td>0.000000</td>\n",
       "    </tr>\n",
       "    <tr>\n",
       "      <th>88832</th>\n",
       "      <td>20300.0</td>\n",
       "      <td>FC2186495AC107CB2BBBFF96D2DE6D71</td>\n",
       "      <td>2023-02-19</td>\n",
       "      <td>14800.0</td>\n",
       "      <td>test</td>\n",
       "      <td>0.000000</td>\n",
       "    </tr>\n",
       "    <tr>\n",
       "      <th>89825</th>\n",
       "      <td>20300.0</td>\n",
       "      <td>FC2186495AC107CB2BBBFF96D2DE6D71</td>\n",
       "      <td>2023-02-20</td>\n",
       "      <td>15307.0</td>\n",
       "      <td>test</td>\n",
       "      <td>0.000000</td>\n",
       "    </tr>\n",
       "    <tr>\n",
       "      <th>91630</th>\n",
       "      <td>20300.0</td>\n",
       "      <td>FC2186495AC107CB2BBBFF96D2DE6D71</td>\n",
       "      <td>2023-02-21</td>\n",
       "      <td>15793.0</td>\n",
       "      <td>test</td>\n",
       "      <td>0.000000</td>\n",
       "    </tr>\n",
       "  </tbody>\n",
       "</table>\n",
       "<p>49868 rows × 6 columns</p>\n",
       "</div>"
      ],
      "text/plain": [
       "       cnt_cumsum_entry                              gtin         dt  \\\n",
       "20448               0.0  0282BDC89C99B4A3828F6EBAA32E6708 2021-11-22   \n",
       "20449           18000.0  0282BDC89C99B4A3828F6EBAA32E6708 2021-11-23   \n",
       "20450           18000.0  0282BDC89C99B4A3828F6EBAA32E6708 2021-11-24   \n",
       "20451           18000.0  0282BDC89C99B4A3828F6EBAA32E6708 2021-11-25   \n",
       "20452           18000.0  0282BDC89C99B4A3828F6EBAA32E6708 2021-11-26   \n",
       "...                 ...                               ...        ...   \n",
       "87764           20300.0  FC2186495AC107CB2BBBFF96D2DE6D71 2023-02-17   \n",
       "87987           20300.0  FC2186495AC107CB2BBBFF96D2DE6D71 2023-02-18   \n",
       "88832           20300.0  FC2186495AC107CB2BBBFF96D2DE6D71 2023-02-19   \n",
       "89825           20300.0  FC2186495AC107CB2BBBFF96D2DE6D71 2023-02-20   \n",
       "91630           20300.0  FC2186495AC107CB2BBBFF96D2DE6D71 2023-02-21   \n",
       "\n",
       "       cnt_cumsum_sold       type    metric  \n",
       "20448            779.0  real_data -0.025373  \n",
       "20449           1148.0  real_data -0.025373  \n",
       "20450           4165.0  real_data -0.025373  \n",
       "20451           4964.0  real_data -0.025373  \n",
       "20452           5914.0  real_data -0.025373  \n",
       "...                ...        ...       ...  \n",
       "87764          14793.0       test  0.000000  \n",
       "87987          14799.0       test  0.000000  \n",
       "88832          14800.0       test  0.000000  \n",
       "89825          15307.0       test  0.000000  \n",
       "91630          15793.0       test  0.000000  \n",
       "\n",
       "[49868 rows x 6 columns]"
      ]
     },
     "execution_count": 88,
     "metadata": {},
     "output_type": "execute_result"
    }
   ],
   "source": [
    "super_puper_final_df_with_test = super_puper_final_df[super_puper_final_df.gtin.isin(predicted.gtin)]\n",
    "super_puper_final_df_with_test['type'] = 'test'\n",
    "super_puper_final_df_with_test['metric'] = 0\n",
    "super_puper_final_df_with_test = pd.concat([super_puper_final_df_with_test, predicted]).sort_values(['gtin', 'dt'])\n",
    "super_puper_final_df_with_test"
   ]
  },
  {
   "cell_type": "code",
   "execution_count": null,
   "metadata": {},
   "outputs": [],
   "source": []
  },
  {
   "cell_type": "code",
   "execution_count": 89,
   "metadata": {},
   "outputs": [],
   "source": [
    "super_puper_final_df_with_test.to_csv('super_puper_final_df_with_test.csv')"
   ]
  }
 ],
 "metadata": {
  "kernelspec": {
   "display_name": "Python 3 (ipykernel)",
   "language": "python",
   "name": "python3"
  },
  "language_info": {
   "codemirror_mode": {
    "name": "ipython",
    "version": 3
   },
   "file_extension": ".py",
   "mimetype": "text/x-python",
   "name": "python",
   "nbconvert_exporter": "python",
   "pygments_lexer": "ipython3",
   "version": "3.9.13"
  }
 },
 "nbformat": 4,
 "nbformat_minor": 2
}
